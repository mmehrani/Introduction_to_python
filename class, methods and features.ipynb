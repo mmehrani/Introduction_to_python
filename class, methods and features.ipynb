{
 "cells": [
  {
   "cell_type": "markdown",
   "metadata": {},
   "source": [
    "# Classes"
   ]
  },
  {
   "cell_type": "code",
   "execution_count": 41,
   "metadata": {},
   "outputs": [],
   "source": [
    "class Player():\n",
    "    # features\n",
    "    def __init__(self,name,height,weight):\n",
    "        self.height = height\n",
    "        self.weight = weight\n",
    "        self.full_name = name\n",
    "        self.points = 0\n",
    "        return\n",
    "    \n",
    "    # methods\n",
    "    def compute_bmi(self):\n",
    "        return self.weight / (self.height)**2\n",
    "    \n",
    "    pass"
   ]
  },
  {
   "cell_type": "code",
   "execution_count": 42,
   "metadata": {},
   "outputs": [],
   "source": [
    "saeed = Player('Saeed Marouf',1.89,81)"
   ]
  },
  {
   "cell_type": "code",
   "execution_count": null,
   "metadata": {},
   "outputs": [],
   "source": []
  },
  {
   "cell_type": "code",
   "execution_count": 43,
   "metadata": {},
   "outputs": [
    {
     "data": {
      "text/plain": [
       "22.67573696145125"
      ]
     },
     "execution_count": 43,
     "metadata": {},
     "output_type": "execute_result"
    }
   ],
   "source": [
    "saeed.compute_bmi()"
   ]
  },
  {
   "cell_type": "code",
   "execution_count": 44,
   "metadata": {},
   "outputs": [],
   "source": [
    "saeed.bmi  = saeed.compute_bmi()"
   ]
  },
  {
   "cell_type": "code",
   "execution_count": 45,
   "metadata": {},
   "outputs": [],
   "source": [
    "saeed_m = Player('M Marouf',1.89,81)"
   ]
  },
  {
   "cell_type": "code",
   "execution_count": 46,
   "metadata": {},
   "outputs": [
    {
     "ename": "AttributeError",
     "evalue": "'Player' object has no attribute 'bmi'",
     "output_type": "error",
     "traceback": [
      "\u001b[1;31m---------------------------------------------------------------------------\u001b[0m",
      "\u001b[1;31mAttributeError\u001b[0m                            Traceback (most recent call last)",
      "\u001b[1;32m<ipython-input-46-fc6ddedb3d74>\u001b[0m in \u001b[0;36m<module>\u001b[1;34m\u001b[0m\n\u001b[1;32m----> 1\u001b[1;33m \u001b[0msaeed_m\u001b[0m\u001b[1;33m.\u001b[0m\u001b[0mbmi\u001b[0m\u001b[1;33m\u001b[0m\u001b[1;33m\u001b[0m\u001b[0m\n\u001b[0m",
      "\u001b[1;31mAttributeError\u001b[0m: 'Player' object has no attribute 'bmi'"
     ]
    }
   ],
   "source": [
    "saeed_m.bmi"
   ]
  },
  {
   "cell_type": "code",
   "execution_count": null,
   "metadata": {},
   "outputs": [],
   "source": []
  },
  {
   "cell_type": "markdown",
   "metadata": {},
   "source": [
    "Alternation"
   ]
  },
  {
   "cell_type": "code",
   "execution_count": 17,
   "metadata": {},
   "outputs": [
    {
     "data": {
      "text/plain": [
       "10"
      ]
     },
     "execution_count": 17,
     "metadata": {},
     "output_type": "execute_result"
    }
   ],
   "source": [
    "saeed.points = 10\n",
    "saeed.points"
   ]
  },
  {
   "cell_type": "code",
   "execution_count": 19,
   "metadata": {},
   "outputs": [
    {
     "data": {
      "text/plain": [
       "22.395789591556788"
      ]
     },
     "execution_count": 19,
     "metadata": {},
     "output_type": "execute_result"
    }
   ],
   "source": [
    "saeed.weight = 80\n",
    "saeed.compute_bmi()"
   ]
  },
  {
   "cell_type": "code",
   "execution_count": 6,
   "metadata": {},
   "outputs": [
    {
     "data": {
      "text/plain": [
       "__main__.Player"
      ]
     },
     "execution_count": 6,
     "metadata": {},
     "output_type": "execute_result"
    }
   ],
   "source": [
    "type(saeed)"
   ]
  },
  {
   "cell_type": "code",
   "execution_count": 20,
   "metadata": {},
   "outputs": [
    {
     "data": {
      "text/plain": [
       "list"
      ]
     },
     "execution_count": 20,
     "metadata": {},
     "output_type": "execute_result"
    }
   ],
   "source": [
    "type([1,2,3])"
   ]
  },
  {
   "cell_type": "markdown",
   "metadata": {},
   "source": [
    "So guess how **list** has been written!\n",
    "\n",
    "```\n",
    "class list():\n",
    "    def __init__():\n",
    "        return\n",
    "        \n",
    "    def append(self):\n",
    "        # lop lop lop\n",
    "        return\n",
    "    \n",
    "    def reverse(self):\n",
    "        # lop lop lop\n",
    "        return\n",
    "    \n",
    "    \n",
    "    \n",
    "```"
   ]
  },
  {
   "cell_type": "code",
   "execution_count": null,
   "metadata": {},
   "outputs": [],
   "source": []
  },
  {
   "cell_type": "code",
   "execution_count": null,
   "metadata": {},
   "outputs": [],
   "source": []
  },
  {
   "cell_type": "markdown",
   "metadata": {},
   "source": [
    "Academic example"
   ]
  },
  {
   "cell_type": "code",
   "execution_count": 27,
   "metadata": {},
   "outputs": [],
   "source": [
    "class Person():\n",
    "    def __init__(self,name,mbti):\n",
    "        self.name = name\n",
    "        self.mbti = mbti\n",
    "        return\n",
    "    \n",
    "    def introduce(self):\n",
    "        print(\"I'm\",self.name,'and',self.mbti,'type!')\n",
    "        return\n",
    "    \n",
    "    def first_name(self):\n",
    "        return self.name[ :self.name.find(' ') ]\n",
    "    \n",
    "    pass\n"
   ]
  },
  {
   "cell_type": "code",
   "execution_count": 22,
   "metadata": {},
   "outputs": [],
   "source": [
    "feynman = Person('Richard P.Feynman','ENTP')"
   ]
  },
  {
   "cell_type": "code",
   "execution_count": 23,
   "metadata": {},
   "outputs": [
    {
     "name": "stdout",
     "output_type": "stream",
     "text": [
      "I'm Richard P.Feynman and ENTP type!\n"
     ]
    }
   ],
   "source": [
    "feynman.introduce()"
   ]
  },
  {
   "cell_type": "code",
   "execution_count": 30,
   "metadata": {},
   "outputs": [
    {
     "data": {
      "text/plain": [
       "'Richard'"
      ]
     },
     "execution_count": 30,
     "metadata": {},
     "output_type": "execute_result"
    }
   ],
   "source": [
    "feynman.first_name()"
   ]
  },
  {
   "cell_type": "code",
   "execution_count": null,
   "metadata": {},
   "outputs": [],
   "source": []
  },
  {
   "cell_type": "code",
   "execution_count": null,
   "metadata": {},
   "outputs": [],
   "source": []
  },
  {
   "cell_type": "markdown",
   "metadata": {},
   "source": [
    "***\n",
    "***\n",
    "## Inheritance"
   ]
  },
  {
   "cell_type": "markdown",
   "metadata": {},
   "source": [
    "Student is a Person!"
   ]
  },
  {
   "cell_type": "code",
   "execution_count": 48,
   "metadata": {},
   "outputs": [],
   "source": [
    "class Student(Person):\n",
    "    def __init__(self,name,mbti,degree,effort_percentage):\n",
    "        \n",
    "        Person.__init__(self,name,mbti)\n",
    "        \n",
    "        self.effort_percentage = effort_percentage\n",
    "        self.degree = degree\n",
    "        \n",
    "        return\n",
    "    \n",
    "    def introduce(self):\n",
    "        print(\"I'm \",self.name)\n",
    "        print(\"I have\",self.degree)\n",
    "        print(\"My personality type is\",self.mbti)\n",
    "        return\n",
    "    pass"
   ]
  },
  {
   "cell_type": "code",
   "execution_count": 49,
   "metadata": {},
   "outputs": [],
   "source": [
    "abbas = Student('Abbas Shojakani','INFP','bachelour',99)"
   ]
  },
  {
   "cell_type": "code",
   "execution_count": 50,
   "metadata": {},
   "outputs": [
    {
     "data": {
      "text/plain": [
       "'Abbas'"
      ]
     },
     "execution_count": 50,
     "metadata": {},
     "output_type": "execute_result"
    }
   ],
   "source": [
    "abbas.first_name()"
   ]
  },
  {
   "cell_type": "code",
   "execution_count": 51,
   "metadata": {},
   "outputs": [
    {
     "name": "stdout",
     "output_type": "stream",
     "text": [
      "I'm  Abbas Shojakani\n",
      "I have bachelour\n",
      "My personality type is INFP\n"
     ]
    }
   ],
   "source": [
    "abbas.introduce()"
   ]
  },
  {
   "cell_type": "code",
   "execution_count": null,
   "metadata": {},
   "outputs": [],
   "source": []
  },
  {
   "cell_type": "code",
   "execution_count": null,
   "metadata": {},
   "outputs": [],
   "source": []
  },
  {
   "cell_type": "code",
   "execution_count": 74,
   "metadata": {},
   "outputs": [],
   "source": [
    "import numpy as np\n",
    "\n",
    "class Professor(Student):\n",
    "    def __init__(self,name,mbti,degree,effort_percentage):\n",
    "        Student.__init__(self,name,mbti,degree,effort_percentage)\n",
    "        return\n",
    "    \n",
    "    def tell_your_mbti(self):\n",
    "        print(self.mbti)\n",
    "        return\n",
    "    \n",
    "    @staticmethod\n",
    "    def split_students(students_objs):\n",
    "        s_group = []\n",
    "        nf_group = []\n",
    "        \n",
    "        for student in students_objs:\n",
    "            if 'S' in student.mbti:\n",
    "                s_group.append(student)\n",
    "            elif 'NF' in student.mbti:\n",
    "                nf_group.append(student)\n",
    "            else:\n",
    "                chosen_flag = np.random.choice(['S','NF'])\n",
    "                if chosen_flag == 'NF':\n",
    "                    nf_group.append(student)\n",
    "                elif chosen_flag == 'S':\n",
    "                    s_group.append(student)\n",
    "                \n",
    "        return s_group,nf_group\n",
    "    \n",
    "    pass"
   ]
  },
  {
   "cell_type": "code",
   "execution_count": 75,
   "metadata": {},
   "outputs": [],
   "source": [
    "saman_moghimi = Professor('Saman Moghimi Araghi','INTP','Associate Professor',99)"
   ]
  },
  {
   "cell_type": "code",
   "execution_count": 76,
   "metadata": {},
   "outputs": [
    {
     "name": "stdout",
     "output_type": "stream",
     "text": [
      "I'm  Saman Moghimi Araghi\n",
      "I have Associate Professor\n",
      "My personality type is INTP\n"
     ]
    }
   ],
   "source": [
    "saman_moghimi.introduce()"
   ]
  },
  {
   "cell_type": "markdown",
   "metadata": {},
   "source": [
    "***\n",
    "- Example:\n",
    "\n",
    "    ### The problem of compatibility\n",
    "\n",
    "<img src=\"Figures/mbti_chart.JPG\" alt=\"Drawing\" style=\"width: 400px;\"/>"
   ]
  },
  {
   "cell_type": "markdown",
   "metadata": {},
   "source": [
    "1. open file"
   ]
  },
  {
   "cell_type": "code",
   "execution_count": 77,
   "metadata": {},
   "outputs": [
    {
     "data": {
      "text/plain": [
       "{'Mohsen Mehrani': ['INFJ', 'Master', '40'],\n",
       " 'Abbas Shojakani': ['INFP', 'UnderG', '60'],\n",
       " 'mz ab': ['ESFJ', 'PhD', '40'],\n",
       " 'n_n b': ['INTP', 'UnderG', '50'],\n",
       " 'Ryan Gosling': ['ISFP', 'Diploma', '90'],\n",
       " 'Fernando Toress': ['ENTJ', 'PHD', '83'],\n",
       " 'N E': ['ENTJ', 'master', '60'],\n",
       " 'torob che!': ['ENTJ', 'under G', '100'],\n",
       " 'M A': ['ENTP', 'UnderG', '55'],\n",
       " 'N Kh': ['INFJ', 'undergrad', '20'],\n",
       " 'Homayoun Shajarian': ['INTJ', 'PHD', '99'],\n",
       " 'Elham': ['INTP', 'diplom', '50'],\n",
       " 'Nicole Fernandes': ['INTP', 'Master', '30']}"
      ]
     },
     "execution_count": 77,
     "metadata": {},
     "output_type": "execute_result"
    }
   ],
   "source": [
    "import pickle\n",
    "\n",
    "dic_file_loaded = open(\"students_info.pkl\",mode = 'rb')\n",
    "dic = pickle.load(dic_file_loaded)\n",
    "dic"
   ]
  },
  {
   "cell_type": "code",
   "execution_count": null,
   "metadata": {},
   "outputs": [],
   "source": []
  },
  {
   "cell_type": "markdown",
   "metadata": {},
   "source": [
    "2. create students objects"
   ]
  },
  {
   "cell_type": "code",
   "execution_count": 78,
   "metadata": {},
   "outputs": [],
   "source": [
    "students_obj_list = [Student(st,dic[st][0],dic[st][1],dic[st][2]) for st in dic]"
   ]
  },
  {
   "cell_type": "code",
   "execution_count": 79,
   "metadata": {},
   "outputs": [
    {
     "data": {
      "text/plain": [
       "[<__main__.Student at 0x1afd1e0a248>,\n",
       " <__main__.Student at 0x1afd1e0a108>,\n",
       " <__main__.Student at 0x1afd1e0a288>,\n",
       " <__main__.Student at 0x1afd1e0a308>,\n",
       " <__main__.Student at 0x1afd1e0a088>,\n",
       " <__main__.Student at 0x1afd1e0a7c8>,\n",
       " <__main__.Student at 0x1afd1e0a2c8>,\n",
       " <__main__.Student at 0x1afd1e0a848>,\n",
       " <__main__.Student at 0x1afd1e0a908>,\n",
       " <__main__.Student at 0x1afd1e0a4c8>,\n",
       " <__main__.Student at 0x1afd1e0a548>,\n",
       " <__main__.Student at 0x1afd1e0aa88>,\n",
       " <__main__.Student at 0x1afd1e0a888>]"
      ]
     },
     "execution_count": 79,
     "metadata": {},
     "output_type": "execute_result"
    }
   ],
   "source": [
    "students_obj_list"
   ]
  },
  {
   "cell_type": "markdown",
   "metadata": {},
   "source": [
    "3. Ask your professor to split the students"
   ]
  },
  {
   "cell_type": "code",
   "execution_count": 81,
   "metadata": {},
   "outputs": [],
   "source": [
    "s_group,nf_group = saman_moghimi.split_students(students_obj_list)"
   ]
  },
  {
   "cell_type": "code",
   "execution_count": null,
   "metadata": {},
   "outputs": [],
   "source": []
  },
  {
   "cell_type": "markdown",
   "metadata": {},
   "source": [
    "4. Give the group number to each student "
   ]
  },
  {
   "cell_type": "code",
   "execution_count": 82,
   "metadata": {},
   "outputs": [],
   "source": [
    "for s_student in s_group:\n",
    "    s_student.group = 'S'\n",
    "\n",
    "for nf_student in nf_group:\n",
    "    nf_student.group = 'NF'\n",
    "    \n"
   ]
  },
  {
   "cell_type": "code",
   "execution_count": 89,
   "metadata": {},
   "outputs": [
    {
     "data": {
      "text/plain": [
       "<__main__.Student at 0x1afd1e0a248>"
      ]
     },
     "execution_count": 89,
     "metadata": {},
     "output_type": "execute_result"
    }
   ],
   "source": [
    "students_obj_list"
   ]
  },
  {
   "cell_type": "code",
   "execution_count": null,
   "metadata": {},
   "outputs": [],
   "source": []
  },
  {
   "cell_type": "code",
   "execution_count": null,
   "metadata": {},
   "outputs": [],
   "source": []
  },
  {
   "cell_type": "markdown",
   "metadata": {},
   "source": [
    "***\n",
    "# Further Notes on Classes\n",
    "\n",
    "## Super()"
   ]
  },
  {
   "cell_type": "code",
   "execution_count": 96,
   "metadata": {},
   "outputs": [],
   "source": [
    "class Singer(Person):\n",
    "    def __init__(self,name,mbti,style):\n",
    "        Person.__init__(self,name,mbti)\n",
    "#         super().__init__(name,mbti)\n",
    "    \n",
    "        self.style = style\n",
    "\n",
    "        return\n",
    "    \n",
    "    def introduce(self):\n",
    "        print(\"I'm \",self.name)\n",
    "        print(\"My personality type is\",self.mbti)\n",
    "        print(\"My song styles are\",self.style)\n",
    "        return\n",
    "    \n",
    "    def introduce_informally(self):\n",
    "        super().introduce()\n",
    "        return\n",
    "    \n",
    "    pass"
   ]
  },
  {
   "cell_type": "code",
   "execution_count": 97,
   "metadata": {},
   "outputs": [],
   "source": [
    "chosen_singer = Singer('Alireza Ghorbani','INTJ','Traditional')"
   ]
  },
  {
   "cell_type": "code",
   "execution_count": 98,
   "metadata": {},
   "outputs": [
    {
     "name": "stdout",
     "output_type": "stream",
     "text": [
      "I'm  Alireza Ghorbani\n",
      "My personality type is INTJ\n",
      "My song styles are Traditional\n"
     ]
    }
   ],
   "source": [
    "chosen_singer.introduce()"
   ]
  },
  {
   "cell_type": "code",
   "execution_count": 99,
   "metadata": {},
   "outputs": [
    {
     "name": "stdout",
     "output_type": "stream",
     "text": [
      "I'm Alireza Ghorbani and INTJ type!\n"
     ]
    }
   ],
   "source": [
    "chosen_singer.introduce_informally()"
   ]
  },
  {
   "cell_type": "markdown",
   "metadata": {},
   "source": [
    "- For more details read:  https://realpython.com/python-super/#what-can-super-do-for-you"
   ]
  },
  {
   "cell_type": "code",
   "execution_count": 100,
   "metadata": {},
   "outputs": [
    {
     "data": {
      "text/plain": [
       "'Alireza'"
      ]
     },
     "execution_count": 100,
     "metadata": {},
     "output_type": "execute_result"
    }
   ],
   "source": [
    "chosen_singer.first_name()"
   ]
  },
  {
   "cell_type": "code",
   "execution_count": null,
   "metadata": {},
   "outputs": [],
   "source": []
  },
  {
   "cell_type": "code",
   "execution_count": null,
   "metadata": {},
   "outputs": [],
   "source": []
  },
  {
   "cell_type": "markdown",
   "metadata": {},
   "source": [
    "## Classmethod"
   ]
  },
  {
   "cell_type": "code",
   "execution_count": 101,
   "metadata": {},
   "outputs": [],
   "source": [
    "class Pizza():\n",
    "    def __init__(self, ingredients):\n",
    "        self.ingredients = ingredients\n",
    "\n",
    "    @classmethod\n",
    "    def margherita(cls):\n",
    "        return cls(['mozzarella', 'tomatoes'])\n"
   ]
  },
  {
   "cell_type": "code",
   "execution_count": 104,
   "metadata": {},
   "outputs": [
    {
     "data": {
      "text/plain": [
       "['tomatoes', 'mushrooms', 'peperoni', 'chicken']"
      ]
     },
     "execution_count": 104,
     "metadata": {},
     "output_type": "execute_result"
    }
   ],
   "source": [
    "my_favourit_pizza = Pizza(['tomatoes','mushrooms','peperoni','chicken'])\n",
    "my_favourit_pizza.ingredients"
   ]
  },
  {
   "cell_type": "code",
   "execution_count": 105,
   "metadata": {},
   "outputs": [],
   "source": [
    "my_margherita = Pizza.margherita()"
   ]
  },
  {
   "cell_type": "code",
   "execution_count": 106,
   "metadata": {},
   "outputs": [
    {
     "data": {
      "text/plain": [
       "['mozzarella', 'tomatoes']"
      ]
     },
     "execution_count": 106,
     "metadata": {},
     "output_type": "execute_result"
    }
   ],
   "source": [
    "my_margherita.ingredients"
   ]
  },
  {
   "cell_type": "code",
   "execution_count": 107,
   "metadata": {},
   "outputs": [],
   "source": [
    "her_margherita = Pizza.margherita()"
   ]
  },
  {
   "cell_type": "markdown",
   "metadata": {},
   "source": [
    "- For more details read:  https://realpython.com/instance-class-and-static-methods-demystified/"
   ]
  },
  {
   "cell_type": "code",
   "execution_count": null,
   "metadata": {},
   "outputs": [],
   "source": []
  }
 ],
 "metadata": {
  "kernelspec": {
   "display_name": "Python 3",
   "language": "python",
   "name": "python3"
  },
  "language_info": {
   "codemirror_mode": {
    "name": "ipython",
    "version": 3
   },
   "file_extension": ".py",
   "mimetype": "text/x-python",
   "name": "python",
   "nbconvert_exporter": "python",
   "pygments_lexer": "ipython3",
   "version": "3.7.6"
  }
 },
 "nbformat": 4,
 "nbformat_minor": 4
}
